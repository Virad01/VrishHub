{
  "nbformat": 4,
  "nbformat_minor": 0,
  "metadata": {
    "colab": {
      "provenance": []
    },
    "kernelspec": {
      "name": "python3",
      "display_name": "Python 3"
    },
    "language_info": {
      "name": "python"
    }
  },
  "cells": [
    {
      "cell_type": "code",
      "execution_count": 101,
      "metadata": {
        "colab": {
          "base_uri": "https://localhost:8080/"
        },
        "id": "Gr0wgW0ekH33",
        "outputId": "9619fd77-7874-4d40-dd36-c33d2f2cc71f"
      },
      "outputs": [
        {
          "output_type": "stream",
          "name": "stdout",
          "text": [
            "Downloading...\n",
            "From: https://drive.google.com/uc?id=14DoImQQ3OHZKgqmKwtBO8qysiZ3lTc1T\n",
            "To: /content/20-04-2022-TO-20-04-2023-M&M-EQ-N.csv\n",
            "100% 26.0k/26.0k [00:00<00:00, 66.3MB/s]\n",
            "Downloading...\n",
            "From: https://drive.google.com/uc?id=1-NQRpLjmTJQsuM9l48wuOHHReqC1GCRA\n",
            "To: /content/20-04-2022-TO-20-04-2023-HDFC-EQ-N.csv\n",
            "100% 26.4k/26.4k [00:00<00:00, 76.5MB/s]\n",
            "Downloading...\n",
            "From: https://drive.google.com/uc?id=1S0-qi3Zb3q_jq4YoboPNYdw2O3-1ZJSs\n",
            "To: /content/20-04-2022-TO-20-04-2023-VADILALIND-EQ-N.csv\n",
            "100% 26.0k/26.0k [00:00<00:00, 73.1MB/s]\n",
            "Downloading...\n",
            "From: https://drive.google.com/uc?id=1eBU6SCbINZiXXJDk4b6CZn8ii8IbgvkX\n",
            "To: /content/20-04-2022-TO-20-04-2023-IOC-EQ-N.csv\n",
            "100% 23.8k/23.8k [00:00<00:00, 40.6MB/s]\n",
            "Downloading...\n",
            "From: https://drive.google.com/uc?id=1iOGEPs-ySJ00KGrxkJT8QgX7E2_v4dqg\n",
            "To: /content/20-04-2022-TO-20-04-2023-JPPOWER-EQ-N.csv\n",
            "100% 23.3k/23.3k [00:00<00:00, 43.4MB/s]\n"
          ]
        }
      ],
      "source": [
        "! gdown 14DoImQQ3OHZKgqmKwtBO8qysiZ3lTc1T           #M&M\n",
        "! gdown 1-NQRpLjmTJQsuM9l48wuOHHReqC1GCRA           #HDFC\n",
        "! gdown 1S0-qi3Zb3q_jq4YoboPNYdw2O3-1ZJSs           #VADILALIND\n",
        "! gdown 1eBU6SCbINZiXXJDk4b6CZn8ii8IbgvkX           #IOC\n",
        "! gdown 1iOGEPs-ySJ00KGrxkJT8QgX7E2_v4dqg           #JPPOWER"
      ]
    },
    {
      "cell_type": "code",
      "source": [
        "import math\n",
        "import datetime \n",
        "import numpy as np\n",
        "import pandas as pd \n",
        "import matplotlib.pyplot as plt\n",
        "plt.style.use('fivethirtyeight')\n",
        "from sklearn.preprocessing import MinMaxScaler\n",
        "\n",
        "import keras \n",
        "from keras import models\n",
        "from keras.models import load_model\n",
        "from keras.models import Sequential\n",
        "from keras.layers import Dense, LSTM"
      ],
      "metadata": {
        "id": "K4fDL1Yclalw"
      },
      "execution_count": 102,
      "outputs": []
    },
    {
      "cell_type": "code",
      "source": [
        "df1=pd.read_csv('20-04-2022-TO-20-04-2023-M&M-EQ-N.csv')\n",
        "df2=pd.read_csv('20-04-2022-TO-20-04-2023-HDFC-EQ-N.csv')\n",
        "df3=pd.read_csv('20-04-2022-TO-20-04-2023-VADILALIND-EQ-N.csv')\n",
        "df4=pd.read_csv('20-04-2022-TO-20-04-2023-IOC-EQ-N.csv')\n",
        "df5=pd.read_csv('20-04-2022-TO-20-04-2023-JPPOWER-EQ-N.csv')"
      ],
      "metadata": {
        "id": "HXS_XxupmNvH"
      },
      "execution_count": 103,
      "outputs": []
    },
    {
      "cell_type": "code",
      "source": [
        "df_list=[df1,df2,df3,df4,df5]\n",
        "data=[None]*len(df_list)            #Creating lists with size the same as that of df_list\n",
        "dataset=[None]*len(df_list)\n",
        "scaled_data=[None]*len(df_list)\n",
        "training_data_len=[None]*len(df_list)\n",
        "train_data=[None]*len(df_list)\n",
        "test_data=[None]*len(df_list)\n",
        "x_train=[]\n",
        "y_train=[]\n",
        "x_test=[]\n",
        "y_test=[]\n",
        "predictions=[]\n",
        "\n",
        "#Create a list of empty lists\n",
        "num_lists = len(df_list)\n",
        "\n",
        "# Create empty lists using a for loop\n",
        "for _ in range(num_lists):\n",
        "    empty_list = []\n",
        "    x_train.append(empty_list)\n",
        "    \n",
        "\n",
        "for _ in range(num_lists):\n",
        "    empty_list = []\n",
        "    y_train.append(empty_list)\n",
        "\n",
        "for _ in range(num_lists):\n",
        "    empty_list = []\n",
        "    x_test.append(empty_list)\n",
        "\n",
        "for _ in range(num_lists):\n",
        "    empty_list = []\n",
        "    y_test.append(empty_list)\n",
        "\n",
        "for _ in range(num_lists):\n",
        "    empty_list = []\n",
        "    predictions.append(empty_list)\n"
      ],
      "metadata": {
        "id": "Da5rKnrxm5gW"
      },
      "execution_count": 104,
      "outputs": []
    },
    {
      "cell_type": "markdown",
      "source": [
        "Cleaner function"
      ],
      "metadata": {
        "id": "1-ZFrTcvnu1q"
      }
    },
    {
      "cell_type": "code",
      "source": [
        "#Function to change the index of dataframe to date\n",
        "def chng_index(df):\n",
        "  dt_li=[]\n",
        "  for i in df.index:\n",
        "    dt_li.append(datetime.datetime.strptime(df['Date  '][i],'%d-%m-%Y').date())\n",
        "  \n",
        "  df.index=dt_li"
      ],
      "metadata": {
        "id": "xRt1ccYxqNYD"
      },
      "execution_count": 105,
      "outputs": []
    },
    {
      "cell_type": "code",
      "source": [
        "#Function to plot the data\n",
        "def plotter(df):\n",
        "  plt.figure(figsize=(16,8))\n",
        "  plt.title('Close price history')\n",
        "  plt.plot(df.index,df['Close Price  '])\n",
        "  plt.xlabel('Date',fontsize=18)\n",
        "  plt.ylabel('Close price '+df['Symbol  '][1],fontsize=18)\n",
        "  plt.show()"
      ],
      "metadata": {
        "id": "4ljZ9Y5Sbp6D"
      },
      "execution_count": 106,
      "outputs": []
    },
    {
      "cell_type": "code",
      "source": [
        "len(x_train[0])"
      ],
      "metadata": {
        "colab": {
          "base_uri": "https://localhost:8080/"
        },
        "id": "N7iixUkBYOiy",
        "outputId": "a109589f-179a-4612-e167-4869f3b1acdb"
      },
      "execution_count": null,
      "outputs": [
        {
          "output_type": "execute_result",
          "data": {
            "text/plain": [
              "0"
            ]
          },
          "metadata": {},
          "execution_count": 76
        }
      ]
    },
    {
      "cell_type": "code",
      "source": [
        "scaled_data[4]"
      ],
      "metadata": {
        "id": "xeHJ7lUAuNJZ"
      },
      "execution_count": null,
      "outputs": []
    },
    {
      "cell_type": "code",
      "source": [
        "#Function to extract the 'Close Price Column of the dataframes and scale the datasets\n",
        "def extract(df,i):\n",
        "  data[i]=df['Close Price  ']\n",
        "  #convert the data into numpy array \n",
        "  dataset[i]=data[i].values\n",
        "  dataset[i]=dataset[i].reshape(-1,1)\n",
        "  scaler=MinMaxScaler(feature_range=(0,1))\n",
        "  scaled_data[i]=scaler.fit_transform(dataset[i])\n",
        "\n",
        "\n"
      ],
      "metadata": {
        "id": "kKZJEHCizGDv"
      },
      "execution_count": 107,
      "outputs": []
    },
    {
      "cell_type": "code",
      "source": [
        "#Fuction to split the x training dataset \n",
        "def split_x_train(var):\n",
        "  training_data_len[var]=math.ceil(len(dataset[var])*0.8)\n",
        "  train_data[var]=scaled_data[var][0:training_data_len[var],:]\n",
        "\n",
        "  #Splitting into x train and y train\n",
        "  #x train will have the sets data values i.e. the past 60 days data divided into sets of (0,59), (1,60), (2,61) etc.\n",
        "  #y train will have the target values, for each set the target value is the closing price of the next day, i.e. for x_train (0,59) the target will be the closing price of 60th day. \n",
        "  for j in range(60, len(train_data[var])):\n",
        "    x_train[var].append(train_data[var][j-60:j,0])\n",
        "    \n"
      ],
      "metadata": {
        "id": "LifJffOfznuo"
      },
      "execution_count": 108,
      "outputs": []
    },
    {
      "cell_type": "code",
      "source": [
        "#Fuction to split the y training dataset \n",
        "def split_y_train(var):\n",
        "  for j in range(60, len(train_data[var])):\n",
        "    y_train[var].append(train_data[var][j,0])"
      ],
      "metadata": {
        "id": "VOLQ29sNZcKs"
      },
      "execution_count": 109,
      "outputs": []
    },
    {
      "cell_type": "code",
      "source": [
        "def convert(i):\n",
        "  #currently x_train and y_train are simply lists, so we convert them to numpy arrays\n",
        "  x_train[i], y_train[i]=np.array(x_train[i]), np.array(y_train[i])"
      ],
      "metadata": {
        "id": "9VvVyg8eFgaf"
      },
      "execution_count": 110,
      "outputs": []
    },
    {
      "cell_type": "code",
      "source": [
        "def re_shp(i) :\n",
        "  x_train[i]=np.reshape(x_train[i],(x_train[i].shape[0],x_train[i].shape[1],1))\n",
        "\n",
        "  #For i=0, this statement is equivalent to np.reshape(x_train,(134,60,1))   134 instances, 60 features\n",
        "  #LSTMs expect a 3D input"
      ],
      "metadata": {
        "id": "BwACpCvZurmQ"
      },
      "execution_count": 111,
      "outputs": []
    },
    {
      "cell_type": "code",
      "source": [
        "#Fuction to split the x testing dataset \n",
        "def split_x_test(i):\n",
        "  test_data[i]=scaled_data[i][training_data_len[i]-60:,:]\n",
        "  for j in range(60, len(test_data[i])):\n",
        "   x_test[i].append(test_data[i][j-60:j,0])\n"
      ],
      "metadata": {
        "id": "izx7Ah6mQzTi"
      },
      "execution_count": 112,
      "outputs": []
    },
    {
      "cell_type": "code",
      "source": [
        "def split_y_test(i):\n",
        "  y_test[i]=dataset[i][training_data_len[i]:, :]\n",
        "  "
      ],
      "metadata": {
        "id": "QkjTygyHVlSr"
      },
      "execution_count": 113,
      "outputs": []
    },
    {
      "cell_type": "code",
      "source": [
        "def conv_x_test(i):\n",
        "#Convert test data set to numpy array\n",
        "  x_test[i]=np.array(x_test[i])\n",
        "#Reshape the data\n",
        "  x_test[i]=np.reshape(x_test[i],(x_test[i].shape[0],x_test[i].shape[1],1))"
      ],
      "metadata": {
        "id": "bUSnIMzOWZ_v"
      },
      "execution_count": 114,
      "outputs": []
    },
    {
      "cell_type": "code",
      "source": [
        "def scale(i):\n",
        "  scaler=MinMaxScaler(feature_range=(0,1))\n",
        "  scaled_data[i]=scaler.fit_transform(dataset[i])\n",
        "  predictions[i]=scaler.inverse_transform(predictions[i])"
      ],
      "metadata": {
        "id": "9afgXZuPVXAe"
      },
      "execution_count": 115,
      "outputs": []
    },
    {
      "cell_type": "code",
      "source": [
        "def cleaning(listt):\n",
        "  for i in range (0,5):\n",
        "    if not(listt[i].isnull().values.any()):\n",
        "      chng_index(listt[i])\n",
        "      # # plotter(listt[i])\n",
        "      extract(listt[i],i)\n",
        "      split_x_train(i)\n",
        "      split_y_train(i)\n",
        "      convert(i)\n",
        "      re_shp(i)\n",
        "      split_x_test(i)\n",
        "      split_y_test(i)\n",
        "      conv_x_test(i)\n",
        "      #scale(i)"
      ],
      "metadata": {
        "id": "mNyIXQK6uUzy"
      },
      "execution_count": 116,
      "outputs": []
    },
    {
      "cell_type": "code",
      "source": [
        "cleaning(df_list)"
      ],
      "metadata": {
        "id": "_-J8LV_pqZEg"
      },
      "execution_count": 117,
      "outputs": []
    },
    {
      "cell_type": "code",
      "source": [
        "print(x_train[0].shape,\"\\n\",y_train[0].shape)"
      ],
      "metadata": {
        "id": "CZeGLmNBG-4O",
        "colab": {
          "base_uri": "https://localhost:8080/"
        },
        "outputId": "57733b37-e041-4bc9-8d5d-1dede30bd8e2"
      },
      "execution_count": 118,
      "outputs": [
        {
          "output_type": "stream",
          "name": "stdout",
          "text": [
            "(134, 60, 1) \n",
            " (134,)\n"
          ]
        }
      ]
    },
    {
      "cell_type": "code",
      "source": [
        "x_train[0]"
      ],
      "metadata": {
        "id": "fLkNxtyViDJR",
        "colab": {
          "base_uri": "https://localhost:8080/"
        },
        "outputId": "105ff849-6556-4acf-f663-6ec594b75aa9"
      },
      "execution_count": 119,
      "outputs": [
        {
          "output_type": "execute_result",
          "data": {
            "text/plain": [
              "array([[[0.03060736],\n",
              "        [0.08751793],\n",
              "        [0.105978  ],\n",
              "        ...,\n",
              "        [0.53065519],\n",
              "        [0.58775705],\n",
              "        [0.57034912]],\n",
              "\n",
              "       [[0.08751793],\n",
              "        [0.105978  ],\n",
              "        [0.07412721],\n",
              "        ...,\n",
              "        [0.58775705],\n",
              "        [0.57034912],\n",
              "        [0.61406026]],\n",
              "\n",
              "       [[0.105978  ],\n",
              "        [0.07412721],\n",
              "        [0.14328073],\n",
              "        ...,\n",
              "        [0.57034912],\n",
              "        [0.61406026],\n",
              "        [0.57465328]],\n",
              "\n",
              "       ...,\n",
              "\n",
              "       [[0.90349115],\n",
              "        [0.82821616],\n",
              "        [0.80698231],\n",
              "        ...,\n",
              "        [0.89210904],\n",
              "        [0.98230512],\n",
              "        [0.93122908]],\n",
              "\n",
              "       [[0.82821616],\n",
              "        [0.80698231],\n",
              "        [0.78986131],\n",
              "        ...,\n",
              "        [0.98230512],\n",
              "        [0.93122908],\n",
              "        [0.93189861]],\n",
              "\n",
              "       [[0.80698231],\n",
              "        [0.78986131],\n",
              "        [0.81578192],\n",
              "        ...,\n",
              "        [0.93122908],\n",
              "        [0.93189861],\n",
              "        [1.        ]]])"
            ]
          },
          "metadata": {},
          "execution_count": 119
        }
      ]
    },
    {
      "cell_type": "code",
      "source": [
        "model1= load_model('M&M.h5')"
      ],
      "metadata": {
        "id": "i48N4LKbKUMm"
      },
      "execution_count": 120,
      "outputs": []
    },
    {
      "cell_type": "code",
      "source": [
        "model1.summary()"
      ],
      "metadata": {
        "id": "XDKmNL78Jgqq",
        "colab": {
          "base_uri": "https://localhost:8080/"
        },
        "outputId": "1ddeca69-4aa7-43e7-d513-f77097954755"
      },
      "execution_count": 121,
      "outputs": [
        {
          "output_type": "stream",
          "name": "stdout",
          "text": [
            "Model: \"sequential\"\n",
            "_________________________________________________________________\n",
            " Layer (type)                Output Shape              Param #   \n",
            "=================================================================\n",
            " lstm (LSTM)                 (None, 60, 50)            10400     \n",
            "                                                                 \n",
            " lstm_1 (LSTM)               (None, 50)                20200     \n",
            "                                                                 \n",
            " dense (Dense)               (None, 25)                1275      \n",
            "                                                                 \n",
            " dense_1 (Dense)             (None, 1)                 26        \n",
            "                                                                 \n",
            "=================================================================\n",
            "Total params: 31,901\n",
            "Trainable params: 31,901\n",
            "Non-trainable params: 0\n",
            "_________________________________________________________________\n"
          ]
        }
      ]
    },
    {
      "cell_type": "code",
      "source": [
        "#Testing the model on the stock it was trained on\n",
        "predictions[0]=model1.predict(x_test[0])\n",
        "scale(0)\n",
        "# predictions[0]=scaler.inverse_transform(predictions[0])"
      ],
      "metadata": {
        "colab": {
          "base_uri": "https://localhost:8080/"
        },
        "id": "5RTjU_eTkal4",
        "outputId": "c5671c90-f36b-4bec-a754-aa24452ce4f8"
      },
      "execution_count": null,
      "outputs": [
        {
          "output_type": "stream",
          "name": "stdout",
          "text": [
            "2/2 [==============================] - 0s 25ms/step\n"
          ]
        }
      ]
    },
    {
      "cell_type": "code",
      "source": [
        "#Transfer learning for HDFC Stock \n",
        "model2_on_1=keras.models.Sequential(model1.layers[:-1])\n",
        "model2_on_1.add(Dense(1))\n"
      ],
      "metadata": {
        "id": "EU9oRcV_J_rg"
      },
      "execution_count": 122,
      "outputs": []
    },
    {
      "cell_type": "code",
      "source": [
        "#Cloning the model1\n",
        "model1_clone = keras.models.clone_model(model1) \n",
        "model1_clone.set_weights(model1.get_weights())"
      ],
      "metadata": {
        "id": "Nc_F3GWfj3eh"
      },
      "execution_count": 123,
      "outputs": []
    },
    {
      "cell_type": "code",
      "source": [
        "#Freezing the new models layers\n",
        "for layer in model2_on_1.layers[:-1]: \n",
        "  layer.trainable = True\n",
        "\n",
        "optimizer=keras.optimizers.Adam(lr=1e-4)\n",
        "model2_on_1.compile(optimizer=optimizer, loss='mean_squared_error')"
      ],
      "metadata": {
        "id": "-TX-uZzZkBeX",
        "colab": {
          "base_uri": "https://localhost:8080/"
        },
        "outputId": "739d7ee8-a480-4c5a-9e66-0f946ff80b6d"
      },
      "execution_count": 128,
      "outputs": [
        {
          "output_type": "stream",
          "name": "stderr",
          "text": [
            "/usr/local/lib/python3.10/dist-packages/keras/optimizers/legacy/adam.py:117: UserWarning: The `lr` argument is deprecated, use `learning_rate` instead.\n",
            "  super().__init__(name, **kwargs)\n"
          ]
        }
      ]
    },
    {
      "cell_type": "code",
      "source": [
        "model2_on_1.fit(x_train[1], y_train[1], batch_size=1, epochs=15)"
      ],
      "metadata": {
        "colab": {
          "base_uri": "https://localhost:8080/"
        },
        "id": "MFWPfskYifDC",
        "outputId": "96a93086-3f91-427e-9e58-a820a5803f41"
      },
      "execution_count": 132,
      "outputs": [
        {
          "output_type": "stream",
          "name": "stdout",
          "text": [
            "Epoch 1/15\n",
            "134/134 [==============================] - 5s 35ms/step - loss: 0.0025\n",
            "Epoch 2/15\n",
            "134/134 [==============================] - 4s 31ms/step - loss: 0.0023\n",
            "Epoch 3/15\n",
            "134/134 [==============================] - 4s 33ms/step - loss: 0.0023\n",
            "Epoch 4/15\n",
            "134/134 [==============================] - 4s 29ms/step - loss: 0.0023\n",
            "Epoch 5/15\n",
            "134/134 [==============================] - 4s 30ms/step - loss: 0.0023\n",
            "Epoch 6/15\n",
            "134/134 [==============================] - 5s 35ms/step - loss: 0.0023\n",
            "Epoch 7/15\n",
            "134/134 [==============================] - 4s 28ms/step - loss: 0.0023\n",
            "Epoch 8/15\n",
            "134/134 [==============================] - 4s 29ms/step - loss: 0.0023\n",
            "Epoch 9/15\n",
            "134/134 [==============================] - 5s 36ms/step - loss: 0.0023\n",
            "Epoch 10/15\n",
            "134/134 [==============================] - 4s 29ms/step - loss: 0.0022\n",
            "Epoch 11/15\n",
            "134/134 [==============================] - 4s 29ms/step - loss: 0.0023\n",
            "Epoch 12/15\n",
            "134/134 [==============================] - 5s 37ms/step - loss: 0.0022\n",
            "Epoch 13/15\n",
            "134/134 [==============================] - 4s 28ms/step - loss: 0.0022\n",
            "Epoch 14/15\n",
            "134/134 [==============================] - 4s 28ms/step - loss: 0.0023\n",
            "Epoch 15/15\n",
            "134/134 [==============================] - 5s 37ms/step - loss: 0.0023\n"
          ]
        },
        {
          "output_type": "execute_result",
          "data": {
            "text/plain": [
              "<keras.callbacks.History at 0x7fc529549f60>"
            ]
          },
          "metadata": {},
          "execution_count": 132
        }
      ]
    },
    {
      "cell_type": "code",
      "source": [
        "predictions[1]=model2_on_1.predict(x_test[1])\n",
        "scale(1)"
      ],
      "metadata": {
        "colab": {
          "base_uri": "https://localhost:8080/"
        },
        "id": "WIYgwdG5nrUd",
        "outputId": "4807c803-5d8e-4bc0-ed91-f025506532ac"
      },
      "execution_count": 133,
      "outputs": [
        {
          "output_type": "stream",
          "name": "stdout",
          "text": [
            "2/2 [==============================] - 0s 48ms/step\n"
          ]
        }
      ]
    },
    {
      "cell_type": "code",
      "source": [
        "rmse=np.sqrt(np.mean(predictions[1]-y_test[1])**2)\n",
        "rmse"
      ],
      "metadata": {
        "colab": {
          "base_uri": "https://localhost:8080/"
        },
        "id": "iniKb3RroAae",
        "outputId": "ab518b2e-17df-45c4-c6ce-9746437bff3b"
      },
      "execution_count": 134,
      "outputs": [
        {
          "output_type": "execute_result",
          "data": {
            "text/plain": [
              "4.328192138671862"
            ]
          },
          "metadata": {},
          "execution_count": 134
        }
      ]
    },
    {
      "cell_type": "code",
      "source": [
        "train=data[1][:training_data_len[1]]\n",
        "valid=data[1][training_data_len[1]:]\n",
        "valid=valid.to_frame(name='Close Price')\n",
        "valid['Predictions']=predictions[1]\n",
        "#Visualize\n",
        "plt.figure(figsize=(16,8))\n",
        "plt.title('Model')\n",
        "plt.xlabel('Date',fontsize=18)\n",
        "plt.ylabel('Close Price Rs.) HDFC', fontsize=18)\n",
        "# plt.plot(train['Close Price '])\n",
        "plt.plot(train) \n",
        "plt.plot(valid[['Close Price', 'Predictions']])\n",
        "plt.legend(['Train', 'Val', 'Predictions'], loc='lower right')\n",
        "plt.show()"
      ],
      "metadata": {
        "colab": {
          "base_uri": "https://localhost:8080/",
          "height": 443
        },
        "id": "abyVsgvNvzgT",
        "outputId": "852abb10-41ab-4c66-f41e-949ee05b7e98"
      },
      "execution_count": 141,
      "outputs": [
        {
          "output_type": "display_data",
          "data": {
            "text/plain": [
              "<Figure size 1600x800 with 1 Axes>"
            ],
            "image/png": "[encoded data removed]"
          },
          "metadata": {}
        }
      ]
    },
    {
      "cell_type": "code",
      "source": [
        "model2_on_1.save('HDFC.h5')"
      ],
      "metadata": {
        "id": "x35yk_cuwLmS"
      },
      "execution_count": 142,
      "outputs": []
    },
    {
      "cell_type": "code",
      "source": [
        "#Transfer learning for Vadilal Stock \n",
        "model3_on_1=keras.models.Sequential(model1.layers[:-1])\n",
        "model3_on_1.add(Dense(1))\n"
      ],
      "metadata": {
        "id": "UIusvwiN1TmO"
      },
      "execution_count": 172,
      "outputs": []
    },
    {
      "cell_type": "code",
      "source": [
        "for layer in model3_on_1.layers[:-1]: \n",
        "  layer.trainable = True\n",
        "\n",
        "optimizer=keras.optimizers.Adam(lr=1e-4)\n",
        "model3_on_1.compile(optimizer=optimizer, loss='mean_squared_error')"
      ],
      "metadata": {
        "colab": {
          "base_uri": "https://localhost:8080/"
        },
        "id": "Vsflk4iJ7bom",
        "outputId": "518ea039-4ecd-468b-c941-c0c3808b5230"
      },
      "execution_count": 177,
      "outputs": [
        {
          "output_type": "stream",
          "name": "stderr",
          "text": [
            "/usr/local/lib/python3.10/dist-packages/keras/optimizers/legacy/adam.py:117: UserWarning: The `lr` argument is deprecated, use `learning_rate` instead.\n",
            "  super().__init__(name, **kwargs)\n"
          ]
        }
      ]
    },
    {
      "cell_type": "code",
      "source": [
        "model3_on_1.fit(x_train[2], y_train[2], batch_size=1, epochs=100)"
      ],
      "metadata": {
        "colab": {
          "base_uri": "https://localhost:8080/"
        },
        "id": "dUure8uu7l_L",
        "outputId": "2409ada6-4a5e-4882-bc08-8e74806481fa"
      },
      "execution_count": 178,
      "outputs": [
        {
          "output_type": "stream",
          "name": "stdout",
          "text": [
            "Epoch 1/100\n",
            "133/133 [==============================] - 7s 30ms/step - loss: 0.0901\n",
            "Epoch 2/100\n",
            "133/133 [==============================] - 5s 35ms/step - loss: 0.0050\n",
            "Epoch 3/100\n",
            "133/133 [==============================] - 4s 30ms/step - loss: 0.0039\n",
            "Epoch 4/100\n",
            "133/133 [==============================] - 4s 29ms/step - loss: 0.0035\n",
            "Epoch 5/100\n",
            "133/133 [==============================] - 5s 36ms/step - loss: 0.0031\n",
            "Epoch 6/100\n",
            "133/133 [==============================] - 4s 31ms/step - loss: 0.0029\n",
            "Epoch 7/100\n",
            "133/133 [==============================] - 4s 29ms/step - loss: 0.0029\n",
            "Epoch 8/100\n",
            "133/133 [==============================] - 4s 34ms/step - loss: 0.0028\n",
            "Epoch 9/100\n",
            "133/133 [==============================] - 4s 32ms/step - loss: 0.0028\n",
            "Epoch 10/100\n",
            "133/133 [==============================] - 4s 28ms/step - loss: 0.0026\n",
            "Epoch 11/100\n",
            "133/133 [==============================] - 5s 34ms/step - loss: 0.0027\n",
            "Epoch 12/100\n",
            "133/133 [==============================] - 4s 34ms/step - loss: 0.0026\n",
            "Epoch 13/100\n",
            "133/133 [==============================] - 4s 30ms/step - loss: 0.0025\n",
            "Epoch 14/100\n",
            "133/133 [==============================] - 5s 34ms/step - loss: 0.0025\n",
            "Epoch 15/100\n",
            "133/133 [==============================] - 5s 40ms/step - loss: 0.0024\n",
            "Epoch 16/100\n",
            "133/133 [==============================] - 4s 30ms/step - loss: 0.0024\n",
            "Epoch 17/100\n",
            "133/133 [==============================] - 5s 37ms/step - loss: 0.0024\n",
            "Epoch 18/100\n",
            "133/133 [==============================] - 4s 29ms/step - loss: 0.0024\n",
            "Epoch 19/100\n",
            "133/133 [==============================] - 4s 29ms/step - loss: 0.0026\n",
            "Epoch 20/100\n",
            "133/133 [==============================] - 5s 37ms/step - loss: 0.0023\n",
            "Epoch 21/100\n",
            "133/133 [==============================] - 4s 29ms/step - loss: 0.0023\n",
            "Epoch 22/100\n",
            "133/133 [==============================] - 4s 28ms/step - loss: 0.0027\n",
            "Epoch 23/100\n",
            "133/133 [==============================] - 5s 37ms/step - loss: 0.0024\n",
            "Epoch 24/100\n",
            "133/133 [==============================] - 4s 28ms/step - loss: 0.0025\n",
            "Epoch 25/100\n",
            "133/133 [==============================] - 4s 28ms/step - loss: 0.0024\n",
            "Epoch 26/100\n",
            "133/133 [==============================] - 4s 34ms/step - loss: 0.0023\n",
            "Epoch 27/100\n",
            "133/133 [==============================] - 4s 31ms/step - loss: 0.0022\n",
            "Epoch 28/100\n",
            "133/133 [==============================] - 4s 29ms/step - loss: 0.0023\n",
            "Epoch 29/100\n",
            "133/133 [==============================] - 5s 35ms/step - loss: 0.0024\n",
            "Epoch 30/100\n",
            "133/133 [==============================] - 4s 31ms/step - loss: 0.0024\n",
            "Epoch 31/100\n",
            "133/133 [==============================] - 4s 29ms/step - loss: 0.0024\n",
            "Epoch 32/100\n",
            "133/133 [==============================] - 4s 33ms/step - loss: 0.0025\n",
            "Epoch 33/100\n",
            "133/133 [==============================] - 4s 33ms/step - loss: 0.0022\n",
            "Epoch 34/100\n",
            "133/133 [==============================] - 4s 29ms/step - loss: 0.0024\n",
            "Epoch 35/100\n",
            "133/133 [==============================] - 4s 32ms/step - loss: 0.0022\n",
            "Epoch 36/100\n",
            "133/133 [==============================] - 4s 33ms/step - loss: 0.0023\n",
            "Epoch 37/100\n",
            "133/133 [==============================] - 4s 28ms/step - loss: 0.0021\n",
            "Epoch 38/100\n",
            "133/133 [==============================] - 4s 31ms/step - loss: 0.0023\n",
            "Epoch 39/100\n",
            "133/133 [==============================] - 4s 34ms/step - loss: 0.0022\n",
            "Epoch 40/100\n",
            "133/133 [==============================] - 4s 28ms/step - loss: 0.0022\n",
            "Epoch 41/100\n",
            "133/133 [==============================] - 4s 29ms/step - loss: 0.0022\n",
            "Epoch 42/100\n",
            "133/133 [==============================] - 5s 37ms/step - loss: 0.0024\n",
            "Epoch 43/100\n",
            "133/133 [==============================] - 4s 29ms/step - loss: 0.0022\n",
            "Epoch 44/100\n",
            "133/133 [==============================] - 4s 29ms/step - loss: 0.0023\n",
            "Epoch 45/100\n",
            "133/133 [==============================] - 5s 37ms/step - loss: 0.0024\n",
            "Epoch 46/100\n",
            "133/133 [==============================] - 4s 28ms/step - loss: 0.0022\n",
            "Epoch 47/100\n",
            "133/133 [==============================] - 4s 28ms/step - loss: 0.0021\n",
            "Epoch 48/100\n",
            "133/133 [==============================] - 5s 38ms/step - loss: 0.0026\n",
            "Epoch 49/100\n",
            "133/133 [==============================] - 4s 28ms/step - loss: 0.0022\n",
            "Epoch 50/100\n",
            "133/133 [==============================] - 4s 29ms/step - loss: 0.0022\n",
            "Epoch 51/100\n",
            "133/133 [==============================] - 5s 37ms/step - loss: 0.0026\n",
            "Epoch 52/100\n",
            "133/133 [==============================] - 4s 29ms/step - loss: 0.0022\n",
            "Epoch 53/100\n",
            "133/133 [==============================] - 4s 28ms/step - loss: 0.0023\n",
            "Epoch 54/100\n",
            "133/133 [==============================] - 5s 37ms/step - loss: 0.0024\n",
            "Epoch 55/100\n",
            "133/133 [==============================] - 4s 28ms/step - loss: 0.0022\n",
            "Epoch 56/100\n",
            "133/133 [==============================] - 4s 29ms/step - loss: 0.0024\n",
            "Epoch 57/100\n",
            "133/133 [==============================] - 5s 37ms/step - loss: 0.0021\n",
            "Epoch 58/100\n",
            "133/133 [==============================] - 4s 30ms/step - loss: 0.0023\n",
            "Epoch 59/100\n",
            "133/133 [==============================] - 4s 28ms/step - loss: 0.0023\n",
            "Epoch 60/100\n",
            "133/133 [==============================] - 5s 39ms/step - loss: 0.0021\n",
            "Epoch 61/100\n",
            "133/133 [==============================] - 4s 30ms/step - loss: 0.0022\n",
            "Epoch 62/100\n",
            "133/133 [==============================] - 4s 30ms/step - loss: 0.0023\n",
            "Epoch 63/100\n",
            "133/133 [==============================] - 5s 37ms/step - loss: 0.0022\n",
            "Epoch 64/100\n",
            "133/133 [==============================] - 4s 28ms/step - loss: 0.0022\n",
            "Epoch 65/100\n",
            "133/133 [==============================] - 4s 30ms/step - loss: 0.0022\n",
            "Epoch 66/100\n",
            "133/133 [==============================] - 5s 37ms/step - loss: 0.0022\n",
            "Epoch 67/100\n",
            "133/133 [==============================] - 4s 30ms/step - loss: 0.0022\n",
            "Epoch 68/100\n",
            "133/133 [==============================] - 4s 31ms/step - loss: 0.0023\n",
            "Epoch 69/100\n",
            "133/133 [==============================] - 5s 40ms/step - loss: 0.0022\n",
            "Epoch 70/100\n",
            "133/133 [==============================] - 4s 30ms/step - loss: 0.0021\n",
            "Epoch 71/100\n",
            "133/133 [==============================] - 4s 30ms/step - loss: 0.0023\n",
            "Epoch 72/100\n",
            "133/133 [==============================] - 5s 38ms/step - loss: 0.0022\n",
            "Epoch 73/100\n",
            "133/133 [==============================] - 4s 29ms/step - loss: 0.0022\n",
            "Epoch 74/100\n",
            "133/133 [==============================] - 4s 28ms/step - loss: 0.0022\n",
            "Epoch 75/100\n",
            "133/133 [==============================] - 5s 37ms/step - loss: 0.0022\n",
            "Epoch 76/100\n",
            "133/133 [==============================] - 4s 30ms/step - loss: 0.0024\n",
            "Epoch 77/100\n",
            "133/133 [==============================] - 4s 28ms/step - loss: 0.0022\n",
            "Epoch 78/100\n",
            "133/133 [==============================] - 5s 37ms/step - loss: 0.0023\n",
            "Epoch 79/100\n",
            "133/133 [==============================] - 4s 30ms/step - loss: 0.0021\n",
            "Epoch 80/100\n",
            "133/133 [==============================] - 4s 28ms/step - loss: 0.0021\n",
            "Epoch 81/100\n",
            "133/133 [==============================] - 5s 37ms/step - loss: 0.0022\n",
            "Epoch 82/100\n",
            "133/133 [==============================] - 4s 29ms/step - loss: 0.0022\n",
            "Epoch 83/100\n",
            "133/133 [==============================] - 4s 29ms/step - loss: 0.0021\n",
            "Epoch 84/100\n",
            "133/133 [==============================] - 5s 37ms/step - loss: 0.0022\n",
            "Epoch 85/100\n",
            "133/133 [==============================] - 4s 30ms/step - loss: 0.0022\n",
            "Epoch 86/100\n",
            "133/133 [==============================] - 4s 29ms/step - loss: 0.0022\n",
            "Epoch 87/100\n",
            "133/133 [==============================] - 5s 38ms/step - loss: 0.0022\n",
            "Epoch 88/100\n",
            "133/133 [==============================] - 4s 29ms/step - loss: 0.0021\n",
            "Epoch 89/100\n",
            "133/133 [==============================] - 4s 28ms/step - loss: 0.0022\n",
            "Epoch 90/100\n",
            "133/133 [==============================] - 5s 36ms/step - loss: 0.0022\n",
            "Epoch 91/100\n",
            "133/133 [==============================] - 4s 29ms/step - loss: 0.0022\n",
            "Epoch 92/100\n",
            "133/133 [==============================] - 4s 29ms/step - loss: 0.0021\n",
            "Epoch 93/100\n",
            "133/133 [==============================] - 5s 37ms/step - loss: 0.0022\n",
            "Epoch 94/100\n",
            "133/133 [==============================] - 4s 29ms/step - loss: 0.0021\n",
            "Epoch 95/100\n",
            "133/133 [==============================] - 4s 29ms/step - loss: 0.0021\n",
            "Epoch 96/100\n",
            "133/133 [==============================] - 5s 35ms/step - loss: 0.0022\n",
            "Epoch 97/100\n",
            "133/133 [==============================] - 4s 31ms/step - loss: 0.0022\n",
            "Epoch 98/100\n",
            "133/133 [==============================] - 4s 30ms/step - loss: 0.0021\n",
            "Epoch 99/100\n",
            "133/133 [==============================] - 5s 36ms/step - loss: 0.0022\n",
            "Epoch 100/100\n",
            "133/133 [==============================] - 4s 30ms/step - loss: 0.0023\n"
          ]
        },
        {
          "output_type": "execute_result",
          "data": {
            "text/plain": [
              "<keras.callbacks.History at 0x7fc51b389d50>"
            ]
          },
          "metadata": {},
          "execution_count": 178
        }
      ]
    },
    {
      "cell_type": "code",
      "source": [
        "predictions[2]=model3_on_1.predict(x_test[2])\n",
        "scale(2)"
      ],
      "metadata": {
        "colab": {
          "base_uri": "https://localhost:8080/"
        },
        "id": "TFXyV-8s7zMv",
        "outputId": "d6718780-b6ab-4e0a-dfe5-307bcdc052e6"
      },
      "execution_count": 179,
      "outputs": [
        {
          "output_type": "stream",
          "name": "stderr",
          "text": [
            "WARNING:tensorflow:5 out of the last 11 calls to <function Model.make_predict_function.<locals>.predict_function at 0x7fc50afe6dd0> triggered tf.function retracing. Tracing is expensive and the excessive number of tracings could be due to (1) creating @tf.function repeatedly in a loop, (2) passing tensors with different shapes, (3) passing Python objects instead of tensors. For (1), please define your @tf.function outside of the loop. For (2), @tf.function has reduce_retracing=True option that can avoid unnecessary retracing. For (3), please refer to https://www.tensorflow.org/guide/function#controlling_retracing and https://www.tensorflow.org/api_docs/python/tf/function for  more details.\n"
          ]
        },
        {
          "output_type": "stream",
          "name": "stdout",
          "text": [
            "2/2 [==============================] - 1s 25ms/step\n"
          ]
        }
      ]
    },
    {
      "cell_type": "code",
      "source": [
        "rmse=np.sqrt(np.mean(predictions[2]-y_test[2])**2)\n",
        "rmse\n",
        "#Initial error after unfreezinmg just the o/p layer "
      ],
      "metadata": {
        "colab": {
          "base_uri": "https://localhost:8080/"
        },
        "id": "P5ok_bnU8arh",
        "outputId": "97bdb150-2f15-4e8a-e903-f044fd60d05c"
      },
      "execution_count": 176,
      "outputs": [
        {
          "output_type": "execute_result",
          "data": {
            "text/plain": [
              "654.5575449625651"
            ]
          },
          "metadata": {},
          "execution_count": 176
        }
      ]
    },
    {
      "cell_type": "code",
      "source": [
        "rmse=np.sqrt(np.mean(predictions[2]-y_test[2])**2)\n",
        "rmse"
      ],
      "metadata": {
        "colab": {
          "base_uri": "https://localhost:8080/"
        },
        "id": "I7jxbme68j7V",
        "outputId": "53984bed-c350-4dbb-d4a9-a72e3455d05f"
      },
      "execution_count": 180,
      "outputs": [
        {
          "output_type": "execute_result",
          "data": {
            "text/plain": [
              "23.35706431070965"
            ]
          },
          "metadata": {},
          "execution_count": 180
        }
      ]
    },
    {
      "cell_type": "code",
      "source": [
        "train=data[2][:training_data_len[2]]\n",
        "valid=data[2][training_data_len[2]:]\n",
        "valid=valid.to_frame(name='Close Price')\n",
        "valid['Predictions']=predictions[2]\n",
        "#Visualize\n",
        "plt.figure(figsize=(16,8))\n",
        "plt.title('Model')\n",
        "plt.xlabel('Date',fontsize=18)\n",
        "plt.ylabel('Close Price Rs.) VADILALIND', fontsize=18)\n",
        "# plt.plot(train['Close Price '])\n",
        "plt.plot(train) \n",
        "plt.plot(valid[['Close Price', 'Predictions']])\n",
        "plt.legend(['Train', 'Val', 'Predictions'], loc='lower right')\n",
        "plt.show()"
      ],
      "metadata": {
        "colab": {
          "base_uri": "https://localhost:8080/",
          "height": 443
        },
        "id": "pWNsbtSVCp14",
        "outputId": "86952e89-c1b9-412b-934a-721f9966bf9f"
      },
      "execution_count": 181,
      "outputs": [
        {
          "output_type": "display_data",
          "data": {
            "text/plain": [
              "<Figure size 1600x800 with 1 Axes>"
            ],
            "image/png": "[encoded data removed]"
          },
          "metadata": {}
        }
      ]
    },
    {
      "cell_type": "code",
      "source": [
        "valid"
      ],
      "metadata": {
        "colab": {
          "base_uri": "https://localhost:8080/",
          "height": 1000
        },
        "id": "ooZY_AlVDLS7",
        "outputId": "9fc79c07-9b1f-483b-8a24-49793e9d532c"
      },
      "execution_count": 182,
      "outputs": [
        {
          "output_type": "execute_result",
          "data": {
            "text/plain": [
              "            Close Price  Predictions\n",
              "2023-02-06      2863.70  2875.129639\n",
              "2023-02-07      2821.20  2825.170654\n",
              "2023-02-08      2654.75  2808.246094\n",
              "2023-02-09      2606.55  2673.927246\n",
              "2023-02-10      2594.80  2647.400391\n",
              "2023-02-13      2599.45  2626.364746\n",
              "2023-02-14      2573.40  2623.322754\n",
              "2023-02-15      2573.65  2593.963623\n",
              "2023-02-16      2553.20  2590.196045\n",
              "2023-02-17      2545.95  2565.001221\n",
              "2023-02-20      2550.75  2554.354248\n",
              "2023-02-21      2666.20  2551.931396\n",
              "2023-02-22      2604.15  2645.868164\n",
              "2023-02-23      2609.25  2577.917236\n",
              "2023-02-24      2608.20  2596.080078\n",
              "2023-02-27      2572.50  2589.065430\n",
              "2023-02-28      2531.00  2559.508545\n",
              "2023-03-01      2572.25  2526.220215\n",
              "2023-03-02      2500.80  2561.626221\n",
              "2023-03-03      2385.95  2493.375488\n",
              "2023-03-06      2305.40  2400.522461\n",
              "2023-03-08      2360.90  2326.657715\n",
              "2023-03-09      2312.60  2362.739502\n",
              "2023-03-10      2323.45  2311.357178\n",
              "2023-03-13      2307.60  2314.951416\n",
              "2023-03-14      2231.30  2295.143066\n",
              "2023-03-15      2194.50  2225.049072\n",
              "2023-03-16      2213.10  2185.594971\n",
              "2023-03-17      2168.45  2194.654785\n",
              "2023-03-20      2159.35  2155.389648\n",
              "2023-03-21      2165.05  2143.756104\n",
              "2023-03-22      2114.10  2149.225098\n",
              "2023-03-23      2109.55  2109.574463\n",
              "2023-03-24      2226.85  2103.813232\n",
              "2023-03-27      2216.50  2209.167236\n",
              "2023-03-28      2152.15  2217.312256\n",
              "2023-03-29      2235.20  2169.556641\n",
              "2023-03-31      2196.15  2238.327637\n",
              "2023-04-03      2096.95  2216.642090\n",
              "2023-04-05      2121.60  2135.684570\n",
              "2023-04-06      2124.65  2144.224121\n",
              "2023-04-10      2045.90  2148.680908\n",
              "2023-04-11      2026.70  2083.890137\n",
              "2023-04-12      2009.20  2054.830322\n",
              "2023-04-13      2006.15  2035.403564\n",
              "2023-04-17      1996.75  2029.886963\n",
              "2023-04-18      2007.65  2023.545288\n",
              "2023-04-19      1967.60  2033.939209"
            ],
            "text/html": [
              "\n",
              "  <div id=\"df-493ad31c-e784-408d-b7be-75bd8e0b8100\">\n",
              "    <div class=\"colab-df-container\">\n",
              "      <div>\n",
              "<style scoped>\n",
              "    .dataframe tbody tr th:only-of-type {\n",
              "        vertical-align: middle;\n",
              "    }\n",
              "\n",
              "    .dataframe tbody tr th {\n",
              "        vertical-align: top;\n",
              "    }\n",
              "\n",
              "    .dataframe thead th {\n",
              "        text-align: right;\n",
              "    }\n",
              "</style>\n",
              "<table border=\"1\" class=\"dataframe\">\n",
              "  <thead>\n",
              "    <tr style=\"text-align: right;\">\n",
              "      <th></th>\n",
              "      <th>Close Price</th>\n",
              "      <th>Predictions</th>\n",
              "    </tr>\n",
              "  </thead>\n",
              "  <tbody>\n",
              "    <tr>\n",
              "      <th>2023-02-06</th>\n",
              "      <td>2863.70</td>\n",
              "      <td>2875.129639</td>\n",
              "    </tr>\n",
              "    <tr>\n",
              "      <th>2023-02-07</th>\n",
              "      <td>2821.20</td>\n",
              "      <td>2825.170654</td>\n",
              "    </tr>\n",
              "    <tr>\n",
              "      <th>2023-02-08</th>\n",
              "      <td>2654.75</td>\n",
              "      <td>2808.246094</td>\n",
              "    </tr>\n",
              "    <tr>\n",
              "      <th>2023-02-09</th>\n",
              "      <td>2606.55</td>\n",
              "      <td>2673.927246</td>\n",
              "    </tr>\n",
              "    <tr>\n",
              "      <th>2023-02-10</th>\n",
              "      <td>2594.80</td>\n",
              "      <td>2647.400391</td>\n",
              "    </tr>\n",
              "    <tr>\n",
              "      <th>2023-02-13</th>\n",
              "      <td>2599.45</td>\n",
              "      <td>2626.364746</td>\n",
              "    </tr>\n",
              "    <tr>\n",
              "      <th>2023-02-14</th>\n",
              "      <td>2573.40</td>\n",
              "      <td>2623.322754</td>\n",
              "    </tr>\n",
              "    <tr>\n",
              "      <th>2023-02-15</th>\n",
              "      <td>2573.65</td>\n",
              "      <td>2593.963623</td>\n",
              "    </tr>\n",
              "    <tr>\n",
              "      <th>2023-02-16</th>\n",
              "      <td>2553.20</td>\n",
              "      <td>2590.196045</td>\n",
              "    </tr>\n",
              "    <tr>\n",
              "      <th>2023-02-17</th>\n",
              "      <td>2545.95</td>\n",
              "      <td>2565.001221</td>\n",
              "    </tr>\n",
              "    <tr>\n",
              "      <th>2023-02-20</th>\n",
              "      <td>2550.75</td>\n",
              "      <td>2554.354248</td>\n",
              "    </tr>\n",
              "    <tr>\n",
              "      <th>2023-02-21</th>\n",
              "      <td>2666.20</td>\n",
              "      <td>2551.931396</td>\n",
              "    </tr>\n",
              "    <tr>\n",
              "      <th>2023-02-22</th>\n",
              "      <td>2604.15</td>\n",
              "      <td>2645.868164</td>\n",
              "    </tr>\n",
              "    <tr>\n",
              "      <th>2023-02-23</th>\n",
              "      <td>2609.25</td>\n",
              "      <td>2577.917236</td>\n",
              "    </tr>\n",
              "    <tr>\n",
              "      <th>2023-02-24</th>\n",
              "      <td>2608.20</td>\n",
              "      <td>2596.080078</td>\n",
              "    </tr>\n",
              "    <tr>\n",
              "      <th>2023-02-27</th>\n",
              "      <td>2572.50</td>\n",
              "      <td>2589.065430</td>\n",
              "    </tr>\n",
              "    <tr>\n",
              "      <th>2023-02-28</th>\n",
              "      <td>2531.00</td>\n",
              "      <td>2559.508545</td>\n",
              "    </tr>\n",
              "    <tr>\n",
              "      <th>2023-03-01</th>\n",
              "      <td>2572.25</td>\n",
              "      <td>2526.220215</td>\n",
              "    </tr>\n",
              "    <tr>\n",
              "      <th>2023-03-02</th>\n",
              "      <td>2500.80</td>\n",
              "      <td>2561.626221</td>\n",
              "    </tr>\n",
              "    <tr>\n",
              "      <th>2023-03-03</th>\n",
              "      <td>2385.95</td>\n",
              "      <td>2493.375488</td>\n",
              "    </tr>\n",
              "    <tr>\n",
              "      <th>2023-03-06</th>\n",
              "      <td>2305.40</td>\n",
              "      <td>2400.522461</td>\n",
              "    </tr>\n",
              "    <tr>\n",
              "      <th>2023-03-08</th>\n",
              "      <td>2360.90</td>\n",
              "      <td>2326.657715</td>\n",
              "    </tr>\n",
              "    <tr>\n",
              "      <th>2023-03-09</th>\n",
              "      <td>2312.60</td>\n",
              "      <td>2362.739502</td>\n",
              "    </tr>\n",
              "    <tr>\n",
              "      <th>2023-03-10</th>\n",
              "      <td>2323.45</td>\n",
              "      <td>2311.357178</td>\n",
              "    </tr>\n",
              "    <tr>\n",
              "      <th>2023-03-13</th>\n",
              "      <td>2307.60</td>\n",
              "      <td>2314.951416</td>\n",
              "    </tr>\n",
              "    <tr>\n",
              "      <th>2023-03-14</th>\n",
              "      <td>2231.30</td>\n",
              "      <td>2295.143066</td>\n",
              "    </tr>\n",
              "    <tr>\n",
              "      <th>2023-03-15</th>\n",
              "      <td>2194.50</td>\n",
              "      <td>2225.049072</td>\n",
              "    </tr>\n",
              "    <tr>\n",
              "      <th>2023-03-16</th>\n",
              "      <td>2213.10</td>\n",
              "      <td>2185.594971</td>\n",
              "    </tr>\n",
              "    <tr>\n",
              "      <th>2023-03-17</th>\n",
              "      <td>2168.45</td>\n",
              "      <td>2194.654785</td>\n",
              "    </tr>\n",
              "    <tr>\n",
              "      <th>2023-03-20</th>\n",
              "      <td>2159.35</td>\n",
              "      <td>2155.389648</td>\n",
              "    </tr>\n",
              "    <tr>\n",
              "      <th>2023-03-21</th>\n",
              "      <td>2165.05</td>\n",
              "      <td>2143.756104</td>\n",
              "    </tr>\n",
              "    <tr>\n",
              "      <th>2023-03-22</th>\n",
              "      <td>2114.10</td>\n",
              "      <td>2149.225098</td>\n",
              "    </tr>\n",
              "    <tr>\n",
              "      <th>2023-03-23</th>\n",
              "      <td>2109.55</td>\n",
              "      <td>2109.574463</td>\n",
              "    </tr>\n",
              "    <tr>\n",
              "      <th>2023-03-24</th>\n",
              "      <td>2226.85</td>\n",
              "      <td>2103.813232</td>\n",
              "    </tr>\n",
              "    <tr>\n",
              "      <th>2023-03-27</th>\n",
              "      <td>2216.50</td>\n",
              "      <td>2209.167236</td>\n",
              "    </tr>\n",
              "    <tr>\n",
              "      <th>2023-03-28</th>\n",
              "      <td>2152.15</td>\n",
              "      <td>2217.312256</td>\n",
              "    </tr>\n",
              "    <tr>\n",
              "      <th>2023-03-29</th>\n",
              "      <td>2235.20</td>\n",
              "      <td>2169.556641</td>\n",
              "    </tr>\n",
              "    <tr>\n",
              "      <th>2023-03-31</th>\n",
              "      <td>2196.15</td>\n",
              "      <td>2238.327637</td>\n",
              "    </tr>\n",
              "    <tr>\n",
              "      <th>2023-04-03</th>\n",
              "      <td>2096.95</td>\n",
              "      <td>2216.642090</td>\n",
              "    </tr>\n",
              "    <tr>\n",
              "      <th>2023-04-05</th>\n",
              "      <td>2121.60</td>\n",
              "      <td>2135.684570</td>\n",
              "    </tr>\n",
              "    <tr>\n",
              "      <th>2023-04-06</th>\n",
              "      <td>2124.65</td>\n",
              "      <td>2144.224121</td>\n",
              "    </tr>\n",
              "    <tr>\n",
              "      <th>2023-04-10</th>\n",
              "      <td>2045.90</td>\n",
              "      <td>2148.680908</td>\n",
              "    </tr>\n",
              "    <tr>\n",
              "      <th>2023-04-11</th>\n",
              "      <td>2026.70</td>\n",
              "      <td>2083.890137</td>\n",
              "    </tr>\n",
              "    <tr>\n",
              "      <th>2023-04-12</th>\n",
              "      <td>2009.20</td>\n",
              "      <td>2054.830322</td>\n",
              "    </tr>\n",
              "    <tr>\n",
              "      <th>2023-04-13</th>\n",
              "      <td>2006.15</td>\n",
              "      <td>2035.403564</td>\n",
              "    </tr>\n",
              "    <tr>\n",
              "      <th>2023-04-17</th>\n",
              "      <td>1996.75</td>\n",
              "      <td>2029.886963</td>\n",
              "    </tr>\n",
              "    <tr>\n",
              "      <th>2023-04-18</th>\n",
              "      <td>2007.65</td>\n",
              "      <td>2023.545288</td>\n",
              "    </tr>\n",
              "    <tr>\n",
              "      <th>2023-04-19</th>\n",
              "      <td>1967.60</td>\n",
              "      <td>2033.939209</td>\n",
              "    </tr>\n",
              "  </tbody>\n",
              "</table>\n",
              "</div>\n",
              "      <button class=\"colab-df-convert\" onclick=\"convertToInteractive('df-493ad31c-e784-408d-b7be-75bd8e0b8100')\"\n",
              "              title=\"Convert this dataframe to an interactive table.\"\n",
              "              style=\"display:none;\">\n",
              "        \n",
              "  <svg xmlns=\"http://www.w3.org/2000/svg\" height=\"24px\"viewBox=\"0 0 24 24\"\n",
              "       width=\"24px\">\n",
              "    <path d=\"M0 0h24v24H0V0z\" fill=\"none\"/>\n",
              "    <path d=\"M18.56 5.44l.94 2.06.94-2.06 2.06-.94-2.06-.94-.94-2.06-.94 2.06-2.06.94zm-11 1L8.5 8.5l.94-2.06 2.06-.94-2.06-.94L8.5 2.5l-.94 2.06-2.06.94zm10 10l.94 2.06.94-2.06 2.06-.94-2.06-.94-.94-2.06-.94 2.06-2.06.94z\"/><path d=\"M17.41 7.96l-1.37-1.37c-.4-.4-.92-.59-1.43-.59-.52 0-1.04.2-1.43.59L10.3 9.45l-7.72 7.72c-.78.78-.78 2.05 0 2.83L4 21.41c.39.39.9.59 1.41.59.51 0 1.02-.2 1.41-.59l7.78-7.78 2.81-2.81c.8-.78.8-2.07 0-2.86zM5.41 20L4 18.59l7.72-7.72 1.47 1.35L5.41 20z\"/>\n",
              "  </svg>\n",
              "      </button>\n",
              "      \n",
              "  <style>\n",
              "    .colab-df-container {\n",
              "      display:flex;\n",
              "      flex-wrap:wrap;\n",
              "      gap: 12px;\n",
              "    }\n",
              "\n",
              "    .colab-df-convert {\n",
              "      background-color: #E8F0FE;\n",
              "      border: none;\n",
              "      border-radius: 50%;\n",
              "      cursor: pointer;\n",
              "      display: none;\n",
              "      fill: #1967D2;\n",
              "      height: 32px;\n",
              "      padding: 0 0 0 0;\n",
              "      width: 32px;\n",
              "    }\n",
              "\n",
              "    .colab-df-convert:hover {\n",
              "      background-color: #E2EBFA;\n",
              "      box-shadow: 0px 1px 2px rgba(60, 64, 67, 0.3), 0px 1px 3px 1px rgba(60, 64, 67, 0.15);\n",
              "      fill: #174EA6;\n",
              "    }\n",
              "\n",
              "    [theme=dark] .colab-df-convert {\n",
              "      background-color: #3B4455;\n",
              "      fill: #D2E3FC;\n",
              "    }\n",
              "\n",
              "    [theme=dark] .colab-df-convert:hover {\n",
              "      background-color: #434B5C;\n",
              "      box-shadow: 0px 1px 3px 1px rgba(0, 0, 0, 0.15);\n",
              "      filter: drop-shadow(0px 1px 2px rgba(0, 0, 0, 0.3));\n",
              "      fill: #FFFFFF;\n",
              "    }\n",
              "  </style>\n",
              "\n",
              "      <script>\n",
              "        const buttonEl =\n",
              "          document.querySelector('#df-493ad31c-e784-408d-b7be-75bd8e0b8100 button.colab-df-convert');\n",
              "        buttonEl.style.display =\n",
              "          google.colab.kernel.accessAllowed ? 'block' : 'none';\n",
              "\n",
              "        async function convertToInteractive(key) {\n",
              "          const element = document.querySelector('#df-493ad31c-e784-408d-b7be-75bd8e0b8100');\n",
              "          const dataTable =\n",
              "            await google.colab.kernel.invokeFunction('convertToInteractive',\n",
              "                                                     [key], {});\n",
              "          if (!dataTable) return;\n",
              "\n",
              "          const docLinkHtml = 'Like what you see? Visit the ' +\n",
              "            '<a target=\"_blank\" href=https://colab.research.google.com/notebooks/data_table.ipynb>data table notebook</a>'\n",
              "            + ' to learn more about interactive tables.';\n",
              "          element.innerHTML = '';\n",
              "          dataTable['output_type'] = 'display_data';\n",
              "          await google.colab.output.renderOutput(dataTable, element);\n",
              "          const docLink = document.createElement('div');\n",
              "          docLink.innerHTML = docLinkHtml;\n",
              "          element.appendChild(docLink);\n",
              "        }\n",
              "      </script>\n",
              "    </div>\n",
              "  </div>\n",
              "  "
            ]
          },
          "metadata": {},
          "execution_count": 182
        }
      ]
    },
    {
      "cell_type": "code",
      "source": [
        "model3_on_1.save('VADILALIND.h5')"
      ],
      "metadata": {
        "id": "3a32L9xoDwVF"
      },
      "execution_count": 183,
      "outputs": []
    },
    {
      "cell_type": "code",
      "source": [],
      "metadata": {
        "id": "8opgozEfEMLq"
      },
      "execution_count": null,
      "outputs": []
    }
  ]
}